{
 "cells": [
  {
   "cell_type": "code",
   "execution_count": 1,
   "metadata": {
    "ExecuteTime": {
     "end_time": "2019-03-15T02:56:16.426791Z",
     "start_time": "2019-03-15T02:56:15.688504Z"
    }
   },
   "outputs": [],
   "source": [
    "from gensim.models import Word2Vec\n",
    "import multiprocessing\n",
    "import pandas as pd\n",
    "from tqdm import tqdm_notebook"
   ]
  },
  {
   "cell_type": "code",
   "execution_count": 17,
   "metadata": {
    "ExecuteTime": {
     "end_time": "2019-03-15T03:03:21.890458Z",
     "start_time": "2019-03-15T03:03:21.882898Z"
    }
   },
   "outputs": [],
   "source": [
    "def add_w2v_feat(data_frame, feat, L=5):\n",
    "    for i in feat:\n",
    "        if data_frame[i].dtype != 'object':\n",
    "            data_frame[i] = data_frame[i].astype(str)\n",
    "    data_frame.fillna('nan', inplace=True)\n",
    "\n",
    "    w2v_feat_list = []\n",
    "    model = Word2Vec(data_frame[feat].values.tolist(), size=L, window=10, min_count=1,\n",
    "                                     workers=multiprocessing.cpu_count(), iter=10)\n",
    "    new_all = pd.DataFrame()\n",
    "    for m, t in tqdm_notebook(enumerate(feat)):\n",
    "        tmp = []\n",
    "        for i in data_frame[t].unique():\n",
    "            tmp_v = [i]\n",
    "            tmp_v.extend(model[i])\n",
    "            tmp.append(tmp_v)\n",
    "        tmp_df = pd.DataFrame(tmp)\n",
    "\n",
    "        w2c_list = [f'w2v_{t}_{n}' for n in range(L)]\n",
    "        tmp_df.columns = [t] + w2c_list\n",
    "        data_frame = data_frame.merge(tmp_df, on=t, how='left')\n",
    "        w2v_feat_list += w2c_list\n",
    "    return data_frame, w2v_feat_list"
   ]
  },
  {
   "cell_type": "code",
   "execution_count": 2,
   "metadata": {
    "ExecuteTime": {
     "end_time": "2019-03-15T02:56:27.008642Z",
     "start_time": "2019-03-15T02:56:26.583130Z"
    }
   },
   "outputs": [],
   "source": [
    "train_df = pd.read_parquet('./tmp_data/train_df.parquet')\n",
    "test_df = pd.read_parquet('./tmp_data/test_df.parquet')"
   ]
  },
  {
   "cell_type": "code",
   "execution_count": 6,
   "metadata": {
    "ExecuteTime": {
     "end_time": "2019-03-15T02:58:10.614474Z",
     "start_time": "2019-03-15T02:58:10.611141Z"
    }
   },
   "outputs": [],
   "source": [
    "features = [c for c in train_df.columns if c not in ['ID_code', 'target']]"
   ]
  },
  {
   "cell_type": "code",
   "execution_count": 28,
   "metadata": {
    "ExecuteTime": {
     "end_time": "2019-03-15T04:03:04.382543Z",
     "start_time": "2019-03-15T04:03:03.399790Z"
    },
    "scrolled": true
   },
   "outputs": [],
   "source": [
    "df = pd.concat([train_df[features], test_df[features]])"
   ]
  },
  {
   "cell_type": "code",
   "execution_count": 30,
   "metadata": {
    "ExecuteTime": {
     "end_time": "2019-03-15T04:03:26.969959Z",
     "start_time": "2019-03-15T04:03:26.966167Z"
    }
   },
   "outputs": [],
   "source": [
    "w2v_feats = ['var_34', 'var_80', 'var_9', 'var_108', 'var_13', 'var_94',\n",
    "       'var_184', 'var_1', 'var_53', 'var_22', 'var_2', 'var_12',\n",
    "       'var_146', 'var_99', 'var_133', 'var_166', 'var_21', 'var_6',\n",
    "       'var_165', 'var_154', 'var_174', 'var_198', 'var_76', 'var_78',\n",
    "       'var_109', 'var_173', 'var_148', 'var_75', 'var_179', 'var_33',\n",
    "       'var_92', 'var_123', 'var_190', 'var_127', 'var_169', 'var_87',\n",
    "       'var_164', 'var_170', 'var_122', 'var_191']"
   ]
  },
  {
   "cell_type": "code",
   "execution_count": 31,
   "metadata": {
    "ExecuteTime": {
     "end_time": "2019-03-15T04:03:46.547113Z",
     "start_time": "2019-03-15T04:03:39.749813Z"
    }
   },
   "outputs": [
    {
     "data": {
      "application/vnd.jupyter.widget-view+json": {
       "model_id": "0738943eea474745bd7a0348e3c5da21",
       "version_major": 2,
       "version_minor": 0
      },
      "text/plain": [
       "HBox(children=(IntProgress(value=0, max=40), HTML(value='')))"
      ]
     },
     "metadata": {},
     "output_type": "display_data"
    },
    {
     "name": "stdout",
     "output_type": "stream",
     "text": [
      "\n"
     ]
    }
   ],
   "source": [
    "for i in tqdm_notebook(w2v_feats):\n",
    "    if df[i].dtype != 'object':\n",
    "        df[i] = df[i].astype(str)"
   ]
  },
  {
   "cell_type": "code",
   "execution_count": 32,
   "metadata": {
    "ExecuteTime": {
     "end_time": "2019-03-15T04:08:45.779213Z",
     "start_time": "2019-03-15T04:03:53.023167Z"
    }
   },
   "outputs": [
    {
     "data": {
      "application/vnd.jupyter.widget-view+json": {
       "model_id": "ab82384e3eab4163b0b16bedb901ff8f",
       "version_major": 2,
       "version_minor": 0
      },
      "text/plain": [
       "HBox(children=(IntProgress(value=1, bar_style='info', max=1), HTML(value='')))"
      ]
     },
     "metadata": {},
     "output_type": "display_data"
    },
    {
     "name": "stderr",
     "output_type": "stream",
     "text": [
      "/data/anaconda3/lib/python3.6/site-packages/ipykernel_launcher.py:15: DeprecationWarning: Call to deprecated `__getitem__` (Method will be removed in 4.0.0, use self.wv.__getitem__() instead).\n",
      "  from ipykernel import kernelapp as app\n"
     ]
    },
    {
     "name": "stdout",
     "output_type": "stream",
     "text": [
      "\n"
     ]
    }
   ],
   "source": [
    "df, w2v_feat_list = add_w2v_feat(df, w2v_feats, L=5)"
   ]
  },
  {
   "cell_type": "code",
   "execution_count": 33,
   "metadata": {
    "ExecuteTime": {
     "end_time": "2019-03-15T04:08:47.906138Z",
     "start_time": "2019-03-15T04:08:45.781083Z"
    }
   },
   "outputs": [],
   "source": [
    "df = df[w2v_feats + w2v_feat_list]"
   ]
  },
  {
   "cell_type": "code",
   "execution_count": 34,
   "metadata": {
    "ExecuteTime": {
     "end_time": "2019-03-15T04:08:57.187368Z",
     "start_time": "2019-03-15T04:08:47.908044Z"
    }
   },
   "outputs": [],
   "source": [
    "df.to_parquet('./tmp_data/w2v_feats.parquet')"
   ]
  }
 ],
 "metadata": {
  "kernelspec": {
   "display_name": "Python 3",
   "language": "python",
   "name": "python3"
  },
  "language_info": {
   "codemirror_mode": {
    "name": "ipython",
    "version": 3
   },
   "file_extension": ".py",
   "mimetype": "text/x-python",
   "name": "python",
   "nbconvert_exporter": "python",
   "pygments_lexer": "ipython3",
   "version": "3.6.5"
  },
  "toc": {
   "base_numbering": 1,
   "nav_menu": {},
   "number_sections": true,
   "sideBar": true,
   "skip_h1_title": false,
   "title_cell": "Table of Contents",
   "title_sidebar": "Contents",
   "toc_cell": false,
   "toc_position": {},
   "toc_section_display": true,
   "toc_window_display": false
  }
 },
 "nbformat": 4,
 "nbformat_minor": 2
}
