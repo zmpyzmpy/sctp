{
 "cells": [
  {
   "cell_type": "code",
   "execution_count": 1,
   "metadata": {
    "ExecuteTime": {
     "end_time": "2019-03-15T03:30:48.148181Z",
     "start_time": "2019-03-15T03:30:47.696963Z"
    }
   },
   "outputs": [],
   "source": [
    "import pandas as pd\n",
    "from sklearn.model_selection import StratifiedKFold,RepeatedKFold\n",
    "import lightgbm as lgb\n",
    "import numpy as np\n",
    "from sklearn.metrics import roc_auc_score"
   ]
  },
  {
   "cell_type": "markdown",
   "metadata": {},
   "source": [
    "## load data"
   ]
  },
  {
   "cell_type": "code",
   "execution_count": 2,
   "metadata": {
    "ExecuteTime": {
     "end_time": "2019-03-15T03:30:49.025492Z",
     "start_time": "2019-03-15T03:30:48.634433Z"
    }
   },
   "outputs": [],
   "source": [
    "train_df = pd.read_parquet('./tmp_data/train_df.parquet')\n",
    "test_df = pd.read_parquet('./tmp_data/test_df.parquet')"
   ]
  },
  {
   "cell_type": "markdown",
   "metadata": {},
   "source": [
    "## feature engineering"
   ]
  },
  {
   "cell_type": "code",
   "execution_count": 11,
   "metadata": {
    "ExecuteTime": {
     "end_time": "2019-03-15T04:59:21.425676Z",
     "start_time": "2019-03-15T04:59:19.898800Z"
    }
   },
   "outputs": [],
   "source": [
    "w2v_feats_df = pd.read_parquet('./tmp_data/w2v_feats.parquet')"
   ]
  },
  {
   "cell_type": "code",
   "execution_count": 12,
   "metadata": {
    "ExecuteTime": {
     "end_time": "2019-03-15T04:59:22.386861Z",
     "start_time": "2019-03-15T04:59:22.383428Z"
    }
   },
   "outputs": [],
   "source": [
    "w2v_feats = ['var_34', 'var_80', 'var_9', 'var_108', 'var_13', 'var_94',\n",
    "       'var_184', 'var_1', 'var_53', 'var_22', 'var_2', 'var_12',\n",
    "       'var_146', 'var_99', 'var_133', 'var_166', 'var_21', 'var_6',\n",
    "       'var_165', 'var_154', 'var_174', 'var_198', 'var_76', 'var_78',\n",
    "       'var_109', 'var_173', 'var_148', 'var_75', 'var_179', 'var_33',\n",
    "       'var_92', 'var_123', 'var_190', 'var_127', 'var_169', 'var_87',\n",
    "       'var_164', 'var_170', 'var_122', 'var_191']"
   ]
  },
  {
   "cell_type": "code",
   "execution_count": 13,
   "metadata": {
    "ExecuteTime": {
     "end_time": "2019-03-15T04:59:23.729668Z",
     "start_time": "2019-03-15T04:59:23.726725Z"
    }
   },
   "outputs": [],
   "source": [
    "w2v_feat_list = [c for c in w2v_feats_df.columns if c not in w2v_feats]"
   ]
  },
  {
   "cell_type": "code",
   "execution_count": 14,
   "metadata": {
    "ExecuteTime": {
     "end_time": "2019-03-15T04:59:25.321645Z",
     "start_time": "2019-03-15T04:59:24.584532Z"
    }
   },
   "outputs": [],
   "source": [
    "train_df = pd.concat([train_df, w2v_feats_df[w2v_feat_list][:200000]], axis=1)"
   ]
  },
  {
   "cell_type": "code",
   "execution_count": 15,
   "metadata": {
    "ExecuteTime": {
     "end_time": "2019-03-15T04:59:29.439587Z",
     "start_time": "2019-03-15T04:59:28.700311Z"
    }
   },
   "outputs": [],
   "source": [
    "test_df = pd.concat([test_df, w2v_feats_df[w2v_feat_list][:200000]], axis=1)"
   ]
  },
  {
   "cell_type": "markdown",
   "metadata": {},
   "source": [
    "## params"
   ]
  },
  {
   "cell_type": "code",
   "execution_count": 19,
   "metadata": {
    "ExecuteTime": {
     "end_time": "2019-03-15T05:06:37.209120Z",
     "start_time": "2019-03-15T05:06:37.203837Z"
    }
   },
   "outputs": [],
   "source": [
    "param = {\n",
    "    'bagging_freq': 5,\n",
    "    'bagging_fraction': 0.335,\n",
    "    'boost_from_average':'false',\n",
    "    'boost': 'gbdt',\n",
    "    'feature_fraction': 0.041,\n",
    "    'learning_rate': 0.0083,\n",
    "    'max_depth': -1,\n",
    "    'metric':'auc',\n",
    "    'min_data_in_leaf': 80,\n",
    "    'min_sum_hessian_in_leaf': 10.0,\n",
    "    'num_leaves': 13,\n",
    "    'num_threads': 8,\n",
    "    'reg_alpha': 0.3,\n",
    "    'reg_lambda': 0.3,\n",
    "    'tree_learner': 'serial',\n",
    "    'objective': 'binary', \n",
    "    'verbosity': -1\n",
    "}"
   ]
  },
  {
   "cell_type": "markdown",
   "metadata": {},
   "source": [
    "## k folds"
   ]
  },
  {
   "cell_type": "code",
   "execution_count": null,
   "metadata": {
    "ExecuteTime": {
     "start_time": "2019-03-15T05:06:41.733Z"
    },
    "code_folding": [
     10
    ],
    "scrolled": true
   },
   "outputs": [
    {
     "name": "stdout",
     "output_type": "stream",
     "text": [
      "Light GBM Model\n",
      "Fold idx:1\n",
      "Training until validation scores don't improve for 4000 rounds.\n",
      "[5000]\ttraining's auc: 0.924908\tvalid_1's auc: 0.893217\n",
      "[10000]\ttraining's auc: 0.944897\tvalid_1's auc: 0.897603\n"
     ]
    }
   ],
   "source": [
    "num_folds = 11\n",
    "features = [c for c in train_df.columns if c not in ['ID_code', 'target']]\n",
    "\n",
    "folds = StratifiedKFold(n_splits=num_folds, shuffle=False, random_state=2319)\n",
    "oof = np.zeros(len(train_df))\n",
    "target = train_df['target']\n",
    "predictions = np.zeros(len(target))\n",
    "feature_importance_df = pd.DataFrame()\n",
    "\n",
    "print('Light GBM Model')\n",
    "for fold_, (trn_idx, val_idx) in enumerate(folds.split(train_df.values, target.values)):\n",
    "    print(\"Fold idx:{}\".format(fold_ + 1))\n",
    "    trn_data = lgb.Dataset(train_df.iloc[trn_idx][features], label=target.iloc[trn_idx])\n",
    "    val_data = lgb.Dataset(train_df.iloc[val_idx][features], label=target.iloc[val_idx])\n",
    "    \n",
    "    \n",
    "    clf = lgb.train(param, trn_data, 1000000, valid_sets = [trn_data, val_data], verbose_eval=5000, early_stopping_rounds = 4000)\n",
    "    oof[val_idx] = clf.predict(train_df.iloc[val_idx][features], num_iteration=clf.best_iteration)\n",
    "    predictions += clf.predict(test_df[features], num_iteration=clf.best_iteration) / folds.n_splits\n",
    "    \n",
    "    # feature importance\n",
    "    fold_importance_df = pd.DataFrame()\n",
    "    fold_importance_df[\"feature\"] = features\n",
    "    fold_importance_df[\"importance\"] = clf.feature_importance()\n",
    "    fold_importance_df[\"fold\"] = fold_ + 1\n",
    "    feature_importance_df = pd.concat([feature_importance_df, fold_importance_df], axis=0)\n",
    "\n",
    "print(\"CV score: {:<8.5f}\".format(roc_auc_score(target, oof)))"
   ]
  },
  {
   "cell_type": "code",
   "execution_count": null,
   "metadata": {},
   "outputs": [],
   "source": [
    "Light GBM Model\n",
    "Fold idx:1\n",
    "Training until validation scores don't improve for 4000 rounds.\n",
    "[5000]\ttraining's auc: 0.924968\tvalid_1's auc: 0.898085\n",
    "[10000]\ttraining's auc: 0.940653\tvalid_1's auc: 0.900676\n",
    "[15000]\ttraining's auc: 0.953383\tvalid_1's auc: 0.901326\n",
    "Early stopping, best iteration is:\n",
    "[14831]\ttraining's auc: 0.952979\tvalid_1's auc: 0.901391\n",
    "Fold idx:2\n",
    "Training until validation scores don't improve for 4000 rounds.\n",
    "[5000]\ttraining's auc: 0.925306\tvalid_1's auc: 0.896726\n",
    "[10000]\ttraining's auc: 0.940849\tvalid_1's auc: 0.898372\n",
    "[15000]\ttraining's auc: 0.953511\tvalid_1's auc: 0.898136\n",
    "Early stopping, best iteration is:\n",
    "[12177]\ttraining's auc: 0.946573\tvalid_1's auc: 0.898442\n",
    "Fold idx:3\n",
    "Training until validation scores don't improve for 4000 rounds.\n",
    "[5000]\ttraining's auc: 0.925721\tvalid_1's auc: 0.890335\n",
    "[10000]\ttraining's auc: 0.941187\tvalid_1's auc: 0.893057\n",
    "[15000]\ttraining's auc: 0.953831\tvalid_1's auc: 0.892903\n",
    "Early stopping, best iteration is:\n",
    "[12618]\ttraining's auc: 0.948088\tvalid_1's auc: 0.893446\n",
    "Fold idx:4\n",
    "Training until validation scores don't improve for 4000 rounds.\n",
    "[5000]\ttraining's auc: 0.924987\tvalid_1's auc: 0.900474\n",
    "[10000]\ttraining's auc: 0.940479\tvalid_1's auc: 0.901999\n",
    "Early stopping, best iteration is:\n",
    "[8469]\ttraining's auc: 0.936145\tvalid_1's auc: 0.902149\n",
    "Fold idx:5\n",
    "Training until validation scores don't improve for 4000 rounds.\n",
    "[5000]\ttraining's auc: 0.925226\tvalid_1's auc: 0.896676\n",
    "[10000]\ttraining's auc: 0.940746\tvalid_1's auc: 0.898578\n",
    "Early stopping, best iteration is:\n",
    "[10190]\ttraining's auc: 0.94125\tvalid_1's auc: 0.898678\n",
    "Fold idx:6\n",
    "Training until validation scores don't improve for 4000 rounds.\n",
    "[5000]\ttraining's auc: 0.925136\tvalid_1's auc: 0.899527\n",
    "[10000]\ttraining's auc: 0.940676\tvalid_1's auc: 0.900933\n",
    "[15000]\ttraining's auc: 0.953376\tvalid_1's auc: 0.900839\n",
    "Early stopping, best iteration is:\n",
    "[12005]\ttraining's auc: 0.945972\tvalid_1's auc: 0.901222\n",
    "Fold idx:7\n",
    "Training until validation scores don't improve for 4000 rounds.\n",
    "[5000]\ttraining's auc: 0.924739\tvalid_1's auc: 0.904726\n",
    "[10000]\ttraining's auc: 0.940341\tvalid_1's auc: 0.90578\n",
    "Early stopping, best iteration is:\n",
    "[9302]\ttraining's auc: 0.938379\tvalid_1's auc: 0.905866\n",
    "Fold idx:8\n",
    "Training until validation scores don't improve for 4000 rounds.\n",
    "[5000]\ttraining's auc: 0.925299\tvalid_1's auc: 0.896506\n",
    "[10000]\ttraining's auc: 0.940921\tvalid_1's auc: 0.898373\n",
    "Early stopping, best iteration is:\n",
    "[9882]\ttraining's auc: 0.9406\tvalid_1's auc: 0.898457\n",
    "Fold idx:9\n",
    "Training until validation scores don't improve for 4000 rounds.\n",
    "[5000]\ttraining's auc: 0.92505\tvalid_1's auc: 0.90162\n",
    "[10000]\ttraining's auc: 0.94066\tvalid_1's auc: 0.903751\n",
    "Early stopping, best iteration is:\n",
    "[9795]\ttraining's auc: 0.940078\tvalid_1's auc: 0.903808\n",
    "Fold idx:10\n",
    "Training until validation scores don't improve for 4000 rounds.\n",
    "[5000]\ttraining's auc: 0.924757\tvalid_1's auc: 0.903197\n",
    "[10000]\ttraining's auc: 0.940368\tvalid_1's auc: 0.904774\n",
    "[15000]\ttraining's auc: 0.953116\tvalid_1's auc: 0.905003\n",
    "Early stopping, best iteration is:\n",
    "[12685]\ttraining's auc: 0.947449\tvalid_1's auc: 0.905076\n",
    "Fold idx:11\n",
    "Training until validation scores don't improve for 4000 rounds.\n",
    "[5000]\ttraining's auc: 0.925291\tvalid_1's auc: 0.898331\n",
    "[10000]\ttraining's auc: 0.940855\tvalid_1's auc: 0.9\n",
    "Early stopping, best iteration is:\n",
    "[10853]\ttraining's auc: 0.94319\tvalid_1's auc: 0.900113\n",
    "CV score: 0.90059 "
   ]
  },
  {
   "cell_type": "markdown",
   "metadata": {},
   "source": [
    "## feature importance"
   ]
  },
  {
   "cell_type": "code",
   "execution_count": 5,
   "metadata": {
    "ExecuteTime": {
     "end_time": "2019-03-15T04:02:04.124263Z",
     "start_time": "2019-03-15T04:02:03.955710Z"
    }
   },
   "outputs": [],
   "source": [
    "import matplotlib\n",
    "import matplotlib.gridspec as gridspec\n",
    "import matplotlib.pyplot as plt\n",
    "import matplotlib.dates as mdates\n",
    "plt.style.use('ggplot')\n",
    "import seaborn as sns"
   ]
  },
  {
   "cell_type": "code",
   "execution_count": 8,
   "metadata": {
    "ExecuteTime": {
     "end_time": "2019-03-15T04:02:39.358018Z",
     "start_time": "2019-03-15T04:02:38.977155Z"
    }
   },
   "outputs": [
    {
     "data": {
      "image/png": "[encoded data removed]",
      "text/plain": [
       "<Figure size 864x720 with 1 Axes>"
      ]
     },
     "metadata": {},
     "output_type": "display_data"
    }
   ],
   "source": [
    "# Plot feature importances\n",
    "cols = feature_importance_df[[\"feature\", \"importance\"]].groupby(\"feature\").mean().sort_values(\n",
    "    by=\"importance\", ascending=False)[:40].reset_index()\n",
    "plt.rcParams['font.size'] = 12\n",
    "plt.rcParams[\"font.weight\"] = \"normal\"\n",
    "plt.rcParams[\"axes.labelweight\"] = \"normal\"\n",
    "plt.figure(figsize=(12,10))\n",
    "sns.barplot(x=\"importance\", y=\"feature\", data=cols)\n",
    "plt.title('Feature Importance')\n",
    "plt.xlabel('Importance',fontweight='bold',fontsize=20)\n",
    "plt.ylabel('Features',fontweight='bold',fontsize=20)\n",
    "plt.tight_layout()"
   ]
  },
  {
   "cell_type": "code",
   "execution_count": 9,
   "metadata": {
    "ExecuteTime": {
     "end_time": "2019-03-15T04:03:20.024163Z",
     "start_time": "2019-03-15T04:03:20.019820Z"
    }
   },
   "outputs": [
    {
     "data": {
      "text/plain": [
       "array(['var_34', 'var_80', 'var_9', 'var_108', 'var_13', 'var_94',\n",
       "       'var_184', 'var_1', 'var_53', 'var_22', 'var_2', 'var_12',\n",
       "       'var_146', 'var_99', 'var_133', 'var_166', 'var_21', 'var_6',\n",
       "       'var_165', 'var_154', 'var_174', 'var_198', 'var_76', 'var_78',\n",
       "       'var_109', 'var_173', 'var_148', 'var_75', 'var_179', 'var_33',\n",
       "       'var_92', 'var_123', 'var_190', 'var_127', 'var_169', 'var_87',\n",
       "       'var_164', 'var_170', 'var_122', 'var_191'], dtype=object)"
      ]
     },
     "execution_count": 9,
     "metadata": {},
     "output_type": "execute_result"
    }
   ],
   "source": [
    "cols.feature.unique()"
   ]
  },
  {
   "cell_type": "markdown",
   "metadata": {},
   "source": [
    "## export results"
   ]
  },
  {
   "cell_type": "code",
   "execution_count": 10,
   "metadata": {
    "ExecuteTime": {
     "end_time": "2019-03-15T04:04:06.286423Z",
     "start_time": "2019-03-15T04:04:05.842014Z"
    }
   },
   "outputs": [
    {
     "name": "stdout",
     "output_type": "stream",
     "text": [
      "Saving the Submission File\n"
     ]
    }
   ],
   "source": [
    "num_sub = 2\n",
    "print('Saving the Submission File')\n",
    "sub = pd.DataFrame({\"ID_code\": test_df.ID_code.values})\n",
    "sub[\"target\"] = predictions\n",
    "sub.to_csv('../results/submission{}.csv'.format(num_sub), index=False)"
   ]
  }
 ],
 "metadata": {
  "kernelspec": {
   "display_name": "Python 3",
   "language": "python",
   "name": "python3"
  },
  "language_info": {
   "codemirror_mode": {
    "name": "ipython",
    "version": 3
   },
   "file_extension": ".py",
   "mimetype": "text/x-python",
   "name": "python",
   "nbconvert_exporter": "python",
   "pygments_lexer": "ipython3",
   "version": "3.6.5"
  },
  "toc": {
   "base_numbering": 1,
   "nav_menu": {},
   "number_sections": true,
   "sideBar": true,
   "skip_h1_title": false,
   "title_cell": "Table of Contents",
   "title_sidebar": "Contents",
   "toc_cell": false,
   "toc_position": {},
   "toc_section_display": true,
   "toc_window_display": false
  }
 },
 "nbformat": 4,
 "nbformat_minor": 2
}
